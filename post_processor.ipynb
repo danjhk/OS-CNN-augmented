{
 "cells": [
  {
   "cell_type": "code",
   "execution_count": 1,
   "metadata": {},
   "outputs": [],
   "source": [
    "import pandas as pd\n",
    "from dataset_types import all_up_to_2Mb_dataset_list"
   ]
  },
  {
   "cell_type": "markdown",
   "metadata": {},
   "source": [
    "# Non augmented"
   ]
  },
  {
   "cell_type": "code",
   "execution_count": 2,
   "metadata": {},
   "outputs": [],
   "source": [
    "short = pd.read_csv(\"aug_results/my_short_dataset_results.csv\")\n",
    "short_labeled = pd.read_csv(\"aug_results/my_short_dataset_results_labeled.csv\")\n",
    "short_labeled.set_index(\"dataset\", drop=True, inplace=True)"
   ]
  },
  {
   "cell_type": "code",
   "execution_count": 3,
   "metadata": {},
   "outputs": [],
   "source": [
    "results_extra = pd.read_csv(\"aug_results/results_extra.csv\", index_col=0)\n",
    "results_extra_remaining = pd.read_csv(\"aug_results/results_extra_remaining.csv\", index_col=0)\n",
    "results_extra_remaining_cuda0 = pd.read_csv(\"aug_results/results_extra_remaining_cuda0.csv\", index_col=0)\n",
    "results_extra_remaining_cuda1 = pd.read_csv(\"aug_results/results_extra_remaining_cuda1.csv\", index_col=0)\n",
    "results_extra_remaining_cuda2 = pd.read_csv(\"aug_results/results_extra_remaining_cuda2.csv\", index_col=0)"
   ]
  },
  {
   "cell_type": "code",
   "execution_count": 4,
   "metadata": {},
   "outputs": [],
   "source": [
    "all_results_extra = pd.concat([results_extra, results_extra_remaining_cuda0, results_extra_remaining_cuda1, results_extra_remaining_cuda2])"
   ]
  },
  {
   "cell_type": "code",
   "execution_count": 5,
   "metadata": {},
   "outputs": [],
   "source": [
    "all_results = pd.concat([short_labeled, all_results_extra])"
   ]
  },
  {
   "cell_type": "code",
   "execution_count": 6,
   "metadata": {},
   "outputs": [],
   "source": [
    "original = pd.read_csv(\"Full_Result/Result_for_128_UCR_datasets.csv\")"
   ]
  },
  {
   "cell_type": "code",
   "execution_count": 7,
   "metadata": {},
   "outputs": [
    {
     "data": {
      "text/html": [
       "<div>\n",
       "<style scoped>\n",
       "    .dataframe tbody tr th:only-of-type {\n",
       "        vertical-align: middle;\n",
       "    }\n",
       "\n",
       "    .dataframe tbody tr th {\n",
       "        vertical-align: top;\n",
       "    }\n",
       "\n",
       "    .dataframe thead th {\n",
       "        text-align: right;\n",
       "    }\n",
       "</style>\n",
       "<table border=\"1\" class=\"dataframe\">\n",
       "  <thead>\n",
       "    <tr style=\"text-align: right;\">\n",
       "      <th></th>\n",
       "      <th>dataset_name</th>\n",
       "      <th>OS-CNN</th>\n",
       "      <th>OS-CNN-RES(2)</th>\n",
       "      <th>OS-CNN-RES(3)</th>\n",
       "      <th>OS-CNN-RES(5)</th>\n",
       "      <th>OS-CNN-RES(6)</th>\n",
       "    </tr>\n",
       "  </thead>\n",
       "  <tbody>\n",
       "    <tr>\n",
       "      <th>0</th>\n",
       "      <td>ACSF1</td>\n",
       "      <td>90.200000</td>\n",
       "      <td>90.000</td>\n",
       "      <td>94.000</td>\n",
       "      <td>92.000</td>\n",
       "      <td>92.000</td>\n",
       "    </tr>\n",
       "    <tr>\n",
       "      <th>1</th>\n",
       "      <td>Adiac</td>\n",
       "      <td>83.452686</td>\n",
       "      <td>82.097</td>\n",
       "      <td>80.307</td>\n",
       "      <td>80.051</td>\n",
       "      <td>79.795</td>\n",
       "    </tr>\n",
       "    <tr>\n",
       "      <th>2</th>\n",
       "      <td>AllGestureWiimoteX</td>\n",
       "      <td>80.171429</td>\n",
       "      <td>81.857</td>\n",
       "      <td>78.571</td>\n",
       "      <td>79.000</td>\n",
       "      <td>79.000</td>\n",
       "    </tr>\n",
       "    <tr>\n",
       "      <th>3</th>\n",
       "      <td>AllGestureWiimoteY</td>\n",
       "      <td>81.357143</td>\n",
       "      <td>82.286</td>\n",
       "      <td>81.429</td>\n",
       "      <td>81.429</td>\n",
       "      <td>81.143</td>\n",
       "    </tr>\n",
       "    <tr>\n",
       "      <th>4</th>\n",
       "      <td>AllGestureWiimoteZ</td>\n",
       "      <td>77.657143</td>\n",
       "      <td>79.000</td>\n",
       "      <td>76.429</td>\n",
       "      <td>74.571</td>\n",
       "      <td>77.286</td>\n",
       "    </tr>\n",
       "    <tr>\n",
       "      <th>...</th>\n",
       "      <td>...</td>\n",
       "      <td>...</td>\n",
       "      <td>...</td>\n",
       "      <td>...</td>\n",
       "      <td>...</td>\n",
       "      <td>...</td>\n",
       "    </tr>\n",
       "    <tr>\n",
       "      <th>123</th>\n",
       "      <td>Wine</td>\n",
       "      <td>74.444444</td>\n",
       "      <td>79.630</td>\n",
       "      <td>50.000</td>\n",
       "      <td>79.630</td>\n",
       "      <td>22.222</td>\n",
       "    </tr>\n",
       "    <tr>\n",
       "      <th>124</th>\n",
       "      <td>WordSynonyms</td>\n",
       "      <td>74.231975</td>\n",
       "      <td>74.765</td>\n",
       "      <td>73.668</td>\n",
       "      <td>71.473</td>\n",
       "      <td>71.944</td>\n",
       "    </tr>\n",
       "    <tr>\n",
       "      <th>125</th>\n",
       "      <td>Worms</td>\n",
       "      <td>76.493506</td>\n",
       "      <td>77.922</td>\n",
       "      <td>68.831</td>\n",
       "      <td>61.039</td>\n",
       "      <td>74.026</td>\n",
       "    </tr>\n",
       "    <tr>\n",
       "      <th>126</th>\n",
       "      <td>WormsTwoClass</td>\n",
       "      <td>65.714286</td>\n",
       "      <td>74.026</td>\n",
       "      <td>70.130</td>\n",
       "      <td>64.935</td>\n",
       "      <td>76.623</td>\n",
       "    </tr>\n",
       "    <tr>\n",
       "      <th>127</th>\n",
       "      <td>Yoga</td>\n",
       "      <td>91.056667</td>\n",
       "      <td>90.733</td>\n",
       "      <td>89.800</td>\n",
       "      <td>89.600</td>\n",
       "      <td>87.733</td>\n",
       "    </tr>\n",
       "  </tbody>\n",
       "</table>\n",
       "<p>128 rows × 6 columns</p>\n",
       "</div>"
      ],
      "text/plain": [
       "           dataset_name     OS-CNN  OS-CNN-RES(2)  OS-CNN-RES(3)  \\\n",
       "0                 ACSF1  90.200000         90.000         94.000   \n",
       "1                 Adiac  83.452686         82.097         80.307   \n",
       "2    AllGestureWiimoteX  80.171429         81.857         78.571   \n",
       "3    AllGestureWiimoteY  81.357143         82.286         81.429   \n",
       "4    AllGestureWiimoteZ  77.657143         79.000         76.429   \n",
       "..                  ...        ...            ...            ...   \n",
       "123                Wine  74.444444         79.630         50.000   \n",
       "124        WordSynonyms  74.231975         74.765         73.668   \n",
       "125               Worms  76.493506         77.922         68.831   \n",
       "126       WormsTwoClass  65.714286         74.026         70.130   \n",
       "127                Yoga  91.056667         90.733         89.800   \n",
       "\n",
       "     OS-CNN-RES(5)  OS-CNN-RES(6)  \n",
       "0           92.000         92.000  \n",
       "1           80.051         79.795  \n",
       "2           79.000         79.000  \n",
       "3           81.429         81.143  \n",
       "4           74.571         77.286  \n",
       "..             ...            ...  \n",
       "123         79.630         22.222  \n",
       "124         71.473         71.944  \n",
       "125         61.039         74.026  \n",
       "126         64.935         76.623  \n",
       "127         89.600         87.733  \n",
       "\n",
       "[128 rows x 6 columns]"
      ]
     },
     "execution_count": 7,
     "metadata": {},
     "output_type": "execute_result"
    }
   ],
   "source": [
    "original"
   ]
  },
  {
   "cell_type": "code",
   "execution_count": 8,
   "metadata": {},
   "outputs": [],
   "source": [
    "import numpy as np\n",
    "\n",
    "# orig_vs_all_percentage_columns = [\n",
    "#     \"jitter\", \"scaling\", \"window_slice\", \"window_warp\", \"time_warp\", \"rotation\",\n",
    "#     \"magnitude_warp\", \"spawner\", \"wdba\"]\n",
    "# orig_vs_all_percentage = pd.DataFrame(\n",
    "#     np.zeros((len(all_up_to_2Mb_dataset_list), len(orig_vs_all_percentage_columns)+1)),\n",
    "#     index=all_up_to_2Mb_dataset_list, columns=[\"orig\"]+orig_vs_all_percentage_columns\n",
    "# )\n",
    "orig_vs_all_percentage = pd.DataFrame()"
   ]
  },
  {
   "cell_type": "code",
   "execution_count": 9,
   "metadata": {},
   "outputs": [
    {
     "name": "stdout",
     "output_type": "stream",
     "text": [
      "Wine. Original: 74.4444443 Wine_rotation: 0.848\n",
      "BeetleFly. Original: 81.5 BeetleFly_window_slice: 0.92\n",
      "ArrowHead. Original: 83.7714285 ArrowHead_window_warp: 0.849\n",
      "OliveOil. Original: 78.6666666 OliveOil_scaling: 0.753\n",
      "Beef. Original: 80.6666666 Beef_scaling: 0.8\n",
      "Lightning7. Original: 79.3150687 Lightning7_magnitude_warp: 0.816\n",
      "Lightning2. Original: 80.6557378 Lightning2_window_warp: 0.852\n",
      "DistalPhalanxOutlineAgeGroup. Original: 73.8129496 DistalPhalanxOutlineAgeGroup_jitter: 0.771\n",
      "DistalPhalanxTW. Original: 66.4028775 DistalPhalanxTW_window_slice: 0.694\n",
      "Herring. Original: 60.78125 Herring_scaling: 0.662\n",
      "ProximalPhalanxTW. Original: 77.3170733 ProximalPhalanxTW_magnitude_warp: 0.797\n",
      "MiddlePhalanxOutlineCorrect. Original: 81.4089348 MiddlePhalanxOutlineCorrect_scaling: 0.808\n",
      "ProximalPhalanxOutlineCorrect. Original: 90.790378 ProximalPhalanxOutlineCorrect_scaling: 0.912\n",
      "ProximalPhalanxOutlineAgeGroup. Original: 84.3902441 ProximalPhalanxOutlineAgeGroup_wdba: 0.862\n",
      "DistalPhalanxOutlineCorrect. Original: 76.594203 DistalPhalanxOutlineCorrect_rotation: 0.775\n",
      "Ham. Original: 70.3809523 Ham_spawner: 0.773\n",
      "Chinatown. Original: 97.6811594 Chinatown_magnitude_warp: 0.984\n",
      "SmoothSubspace. Original: 98.8666667 SmoothSubspace_jitter: 0.987\n",
      "DodgerLoopGame. Original: 88.7681159 DodgerLoopGame_magnitude_warp: 0.9\n",
      "DodgerLoopWeekend. Original: 97.826087 DodgerLoopWeekend_spawner: 0.975\n",
      "DodgerLoopDay. Original: 53.875 DodgerLoopDay_scaling: 0.558\n",
      "PickupGestureWiimoteZ. Original: 91.8 PickupGestureWiimoteZ_jitter: 0.892\n",
      "ShakeGestureWiimoteZ. Original: 96.2 ShakeGestureWiimoteZ_jitter: 0.964\n",
      "ECG200. Original: 90.8 ECG200_jitter: 0.908\n",
      "BirdChicken. Original: 88.5 BirdChicken_magnitude_warp: 0.97\n",
      "ItalyPowerDemand. Original: 94.7230322 ItalyPowerDemand_window_slice: 0.959\n",
      "MelbournePedestrian. Original: 89.8612245 MelbournePedestrian_rotation: 0.923\n",
      "FaceFour. Original: 95.1136363 FaceFour_jitter: 0.959\n",
      "SonyAIBORobotSurface1. Original: 97.9534109 SonyAIBORobotSurface1_scaling: 0.986\n",
      "MiddlePhalanxOutlineAgeGroup. Original: 53.6363637 MiddlePhalanxOutlineAgeGroup_jitter: 0.608\n",
      "MiddlePhalanxTW. Original: 51.9480519 MiddlePhalanxTW_time_warp: 0.566\n",
      "Meat. Original: 94.6666668 Meat_scaling: 0.953\n",
      "ToeSegmentation2. Original: 94.6153846 ToeSegmentation2_wdba: 0.965\n",
      "GesturePebbleZ2. Original: 89.9367089 GesturePebbleZ2_jitter: 0.892\n",
      "GesturePebbleZ1. Original: 92.0348837 GesturePebbleZ1_rotation: 0.934\n",
      "GestureMidAirD2. Original: 63.2307693 GestureMidAirD2_scaling: 0.657\n",
      "SonyAIBORobotSurface2. Original: 95.3830011 SonyAIBORobotSurface2_jitter: 0.962\n",
      "GestureMidAirD1. Original: 73.0 GestureMidAirD1_scaling: 0.743\n",
      "GestureMidAirD3. Original: 41.6923077 GestureMidAirD3_jitter: 0.426\n",
      "Car. Original: 93.333333 Car_jitter: 0.937\n",
      "ToeSegmentation1. Original: 95.3947369 ToeSegmentation1_window_warp: 0.962\n",
      "ShapeletSim. Original: 79.9444444 ShapeletSim_magnitude_warp: 0.919\n",
      "DiatomSizeReduction. Original: 97.7124184 DiatomSizeReduction_jitter: 0.983\n",
      "MoteStrain. Original: 92.6357828 MoteStrain_scaling: 0.927\n",
      "HouseTwenty. Original: 94.8739496 HouseTwenty_rotation: 0.973\n",
      "InsectEPGSmallTrain. Original: 44.4176707 InsectEPGSmallTrain_rotation: 0.508\n",
      "MedicalImages. Original: 76.9473683 MedicalImages_magnitude_warp: 0.771\n",
      "Rock. Original: 55.0 Rock_jitter: 0.632\n",
      "Adiac. Original: 83.4526856 Adiac_scaling: 0.83\n",
      "InsectEPGRegularTrain. Original: 95.1004016 InsectEPGRegularTrain_jitter: 1.0\n",
      "SwedishLeaf. Original: 97.12 SwedishLeaf_scaling: 0.97\n",
      "Fish. Original: 98.7428571 Fish_scaling: 0.993\n"
     ]
    }
   ],
   "source": [
    "import numpy as np\n",
    "for dataset_name in all_up_to_2Mb_dataset_list:\n",
    "    my_best_idx = all_results[all_results.index.str.startswith(dataset_name)]['mean_acc'].idxmax()\n",
    "    my_best_val = all_results[all_results.index.str.startswith(dataset_name)]['mean_acc'].max()\n",
    "    print(f\"{dataset_name}. Original: {original.loc[original['dataset_name']==dataset_name, 'OS-CNN'].values[0]} {my_best_idx}: {np.round(my_best_val, 3)}\")"
   ]
  },
  {
   "cell_type": "code",
   "execution_count": 10,
   "metadata": {},
   "outputs": [],
   "source": [
    "import numpy as np\n",
    "\n",
    "def compute_percent_improvement(orig_value, improv_value):\n",
    "    return ((improv_value - orig_value) / orig_value) * 100\n",
    "\n",
    "orig_vs_all_percentage = pd.DataFrame()\n",
    "for dataset_name in all_up_to_2Mb_dataset_list:\n",
    "    orig_acc = original.loc[original['dataset_name']==dataset_name, 'OS-CNN'].values[0]/100\n",
    "    idxs = all_results[all_results.index.str.startswith(dataset_name)]['mean_acc'].index\n",
    "    idxs = [idx[len(dataset_name)+1:] for idx in idxs]\n",
    "    accs = all_results[all_results.index.str.startswith(dataset_name)]['mean_acc'].values\n",
    "    orig_vs_all_percentage.loc[dataset_name, \"orig\"] = orig_acc\n",
    "    orig_vs_all_percentage.loc[dataset_name, idxs] = accs\n",
    "    # print(f\"{dataset_name}. Original: {original.loc[original['dataset_name']==dataset_name, 'OS-CNN'].values[0]} {my_best_idx}: {np.round(my_best_val, 3)}\")"
   ]
  },
  {
   "cell_type": "code",
   "execution_count": 11,
   "metadata": {},
   "outputs": [],
   "source": [
    "for column in orig_vs_all_percentage.columns[1:]:\n",
    "    orig_vs_all_percentage[f\"perc_{column}\"] = np.round(((orig_vs_all_percentage[column] - orig_vs_all_percentage[\"orig\"]) / orig_vs_all_percentage[\"orig\"]) * 100, 3)"
   ]
  },
  {
   "cell_type": "code",
   "execution_count": 12,
   "metadata": {},
   "outputs": [
    {
     "data": {
      "text/plain": [
       "orig                    0.822632\n",
       "jitter                  0.793870\n",
       "scaling                 0.818861\n",
       "window_slice            0.729584\n",
       "window_warp             0.781544\n",
       "time_warp               0.661406\n",
       "rotation                0.775107\n",
       "magnitude_warp          0.799964\n",
       "spawner                 0.703466\n",
       "wdba                    0.738364\n",
       "perc_jitter            -3.792577\n",
       "perc_scaling           -0.580231\n",
       "perc_window_slice     -12.115192\n",
       "perc_window_warp       -5.279596\n",
       "perc_time_warp        -20.216923\n",
       "perc_rotation          -5.664077\n",
       "perc_magnitude_warp    -3.034577\n",
       "perc_spawner          -14.895058\n",
       "perc_wdba             -11.707385\n",
       "dtype: float64"
      ]
     },
     "execution_count": 12,
     "metadata": {},
     "output_type": "execute_result"
    }
   ],
   "source": [
    "orig_vs_all_percentage.mean()"
   ]
  },
  {
   "cell_type": "markdown",
   "metadata": {},
   "source": [
    "# Augmented"
   ]
  },
  {
   "cell_type": "code",
   "execution_count": 13,
   "metadata": {},
   "outputs": [],
   "source": [
    "aug_cuda3 = pd.read_csv(\"aug_results/results_aug_cuda3.csv\", index_col=0)\n",
    "aug_remaining_cuda0 = pd.read_csv(\"aug_results/results_aug_remaining_cuda0.csv\", index_col=0)\n",
    "aug_remaining_cuda0.index = [str(index) + \"_aug\" for index in aug_remaining_cuda0.index]\n",
    "aug_remaining_cuda1 = pd.read_csv(\"aug_results/results_aug_remaining_cuda1.csv\", index_col=0)\n",
    "aug_remaining_cuda1.index = [str(index) + \"_aug\" for index in aug_remaining_cuda1.index]\n",
    "aug_remaining_cuda2 = pd.read_csv(\"aug_results/results_aug_remaining_cuda2.csv\", index_col=0)\n",
    "aug_remaining_cuda2.index = [str(index) + \"_aug\" for index in aug_remaining_cuda2.index]\n",
    "aug_remaining_cuda3 = pd.read_csv(\"aug_results/results_aug_remaining_cuda3.csv\", index_col=0)"
   ]
  },
  {
   "cell_type": "code",
   "execution_count": 14,
   "metadata": {},
   "outputs": [],
   "source": [
    "aug_df = pd.concat([aug_cuda3, aug_remaining_cuda0, aug_remaining_cuda1, aug_remaining_cuda2, aug_remaining_cuda3])"
   ]
  },
  {
   "cell_type": "code",
   "execution_count": 15,
   "metadata": {},
   "outputs": [],
   "source": [
    "original = pd.read_csv(\"Full_Result/Result_for_128_UCR_datasets.csv\")"
   ]
  },
  {
   "cell_type": "code",
   "execution_count": 16,
   "metadata": {},
   "outputs": [
    {
     "data": {
      "text/plain": [
       "Index(['Wine_jitter_aug', 'Wine_scaling_aug', 'Wine_window_slice_aug',\n",
       "       'Wine_window_warp_aug', 'Wine_time_warp_aug', 'Wine_rotation_aug',\n",
       "       'Wine_magnitude_warp_aug', 'Wine_spawner_aug', 'Wine_wdba_aug'],\n",
       "      dtype='object')"
      ]
     },
     "execution_count": 16,
     "metadata": {},
     "output_type": "execute_result"
    }
   ],
   "source": [
    "aug_df[aug_df.index.str.startswith(\"Wine\")].index"
   ]
  },
  {
   "cell_type": "code",
   "execution_count": 17,
   "metadata": {},
   "outputs": [
    {
     "data": {
      "text/plain": [
       "orig                        0.822632\n",
       "jitter_aug                  0.807831\n",
       "scaling_aug                 0.820861\n",
       "window_slice_aug            0.785410\n",
       "window_warp_aug             0.805695\n",
       "time_warp_aug               0.731794\n",
       "rotation_aug                0.782958\n",
       "magnitude_warp_aug          0.807057\n",
       "spawner_aug                 0.758801\n",
       "wdba_aug                    0.770894\n",
       "perc_jitter_aug            -2.166000\n",
       "perc_scaling_aug           -0.652865\n",
       "perc_window_slice_aug      -5.268404\n",
       "perc_window_warp_aug       -2.366269\n",
       "perc_time_warp_aug        -10.832115\n",
       "perc_rotation_aug          -5.021288\n",
       "perc_magnitude_warp_aug    -2.278058\n",
       "perc_spawner_aug           -8.221712\n",
       "perc_wdba_aug              -6.888519\n",
       "dtype: float64"
      ]
     },
     "execution_count": 17,
     "metadata": {},
     "output_type": "execute_result"
    }
   ],
   "source": [
    "import numpy as np\n",
    "\n",
    "def compute_percent_improvement(orig_value, improv_value):\n",
    "    return ((improv_value - orig_value) / orig_value) * 100\n",
    "\n",
    "orig_vs_aug_percentage = pd.DataFrame()\n",
    "for dataset_name in all_up_to_2Mb_dataset_list:\n",
    "    orig_acc = original.loc[original['dataset_name']==dataset_name, 'OS-CNN'].values[0]/100\n",
    "    idxs = aug_df[aug_df.index.str.startswith(dataset_name)]['mean_acc'].index\n",
    "    idxs = [idx[len(dataset_name)+1:] for idx in idxs]\n",
    "    accs = aug_df[aug_df.index.str.startswith(dataset_name)]['mean_acc'].values\n",
    "    orig_vs_aug_percentage.loc[dataset_name, \"orig\"] = orig_acc\n",
    "    orig_vs_aug_percentage.loc[dataset_name, idxs] = accs\n",
    "    # print(f\"{dataset_name}. Original: {original.loc[original['dataset_name']==dataset_name, 'OS-CNN'].values[0]} {my_best_idx}: {np.round(my_best_val, 3)}\")\n",
    "for column in orig_vs_aug_percentage.columns[1:]:\n",
    "    orig_vs_aug_percentage[f\"perc_{column}\"] = np.round(((orig_vs_aug_percentage[column] - orig_vs_aug_percentage[\"orig\"]) / orig_vs_aug_percentage[\"orig\"]) * 100, 3)\n",
    "orig_vs_aug_percentage.mean()"
   ]
  },
  {
   "cell_type": "code",
   "execution_count": 18,
   "metadata": {},
   "outputs": [
    {
     "name": "stdout",
     "output_type": "stream",
     "text": [
      "Wine. Original: 0.744444443 Wine_scaling_aug: 0.837 Wine_rotation: 0.848\n",
      "BeetleFly. Original: 0.815 BeetleFly_jitter_aug: 0.85 BeetleFly_window_slice: 0.92\n",
      "ArrowHead. Original: 0.837714285 ArrowHead_window_warp_aug: 0.854 ArrowHead_window_warp: 0.849\n",
      "OliveOil. Original: 0.786666666 OliveOil_wdba_aug: 0.86 OliveOil_scaling: 0.753\n",
      "Beef. Original: 0.806666666 Beef_time_warp_aug: 0.827 Beef_scaling: 0.8\n",
      "Lightning7. Original: 0.793150687 Lightning7_time_warp_aug: 0.819 Lightning7_magnitude_warp: 0.816\n",
      "Lightning2. Original: 0.8065573779999999 Lightning2_window_slice_aug: 0.849 Lightning2_window_warp: 0.852\n",
      "DistalPhalanxOutlineAgeGroup. Original: 0.738129496 DistalPhalanxOutlineAgeGroup_magnitude_warp_aug: 0.75 DistalPhalanxOutlineAgeGroup_jitter: 0.771\n",
      "DistalPhalanxTW. Original: 0.664028775 DistalPhalanxTW_spawner_aug: 0.691 DistalPhalanxTW_window_slice: 0.694\n",
      "Herring. Original: 0.6078125 Herring_scaling_aug: 0.641 Herring_scaling: 0.662\n",
      "ProximalPhalanxTW. Original: 0.773170733 ProximalPhalanxTW_time_warp_aug: 0.784 ProximalPhalanxTW_magnitude_warp: 0.797\n",
      "MiddlePhalanxOutlineCorrect. Original: 0.814089348 MiddlePhalanxOutlineCorrect_spawner_aug: 0.823 MiddlePhalanxOutlineCorrect_scaling: 0.808\n",
      "ProximalPhalanxOutlineCorrect. Original: 0.90790378 ProximalPhalanxOutlineCorrect_jitter_aug: 0.922 ProximalPhalanxOutlineCorrect_scaling: 0.912\n",
      "ProximalPhalanxOutlineAgeGroup. Original: 0.843902441 ProximalPhalanxOutlineAgeGroup_wdba_aug: 0.871 ProximalPhalanxOutlineAgeGroup_wdba: 0.862\n",
      "DistalPhalanxOutlineCorrect. Original: 0.7659420299999999 DistalPhalanxOutlineCorrect_wdba_aug: 0.777 DistalPhalanxOutlineCorrect_rotation: 0.775\n",
      "Ham. Original: 0.703809523 Ham_spawner_aug: 0.77 Ham_spawner: 0.773\n",
      "Chinatown. Original: 0.976811594 Chinatown_jitter_aug: 0.98 Chinatown_magnitude_warp: 0.984\n",
      "SmoothSubspace. Original: 0.9886666669999999 SmoothSubspace_jitter_aug: 0.996 SmoothSubspace_jitter: 0.987\n",
      "DodgerLoopGame. Original: 0.887681159 DodgerLoopGame_jitter_aug: 0.907 DodgerLoopGame_magnitude_warp: 0.9\n",
      "DodgerLoopWeekend. Original: 0.9782608700000001 DodgerLoopWeekend_jitter_aug: 0.98 DodgerLoopWeekend_spawner: 0.975\n",
      "DodgerLoopDay. Original: 0.53875 DodgerLoopDay_jitter_aug: 0.588 DodgerLoopDay_scaling: 0.558\n",
      "PickupGestureWiimoteZ. Original: 0.9179999999999999 PickupGestureWiimoteZ_scaling_aug: 0.9 PickupGestureWiimoteZ_jitter: 0.892\n",
      "ShakeGestureWiimoteZ. Original: 0.9620000000000001 ShakeGestureWiimoteZ_jitter_aug: 0.96 ShakeGestureWiimoteZ_jitter: 0.964\n",
      "ECG200. Original: 0.9079999999999999 ECG200_jitter_aug: 0.908 ECG200_jitter: 0.908\n",
      "BirdChicken. Original: 0.885 BirdChicken_scaling_aug: 0.9 BirdChicken_magnitude_warp: 0.97\n",
      "ItalyPowerDemand. Original: 0.947230322 ItalyPowerDemand_magnitude_warp_aug: 0.952 ItalyPowerDemand_window_slice: 0.959\n",
      "MelbournePedestrian. Original: 0.898612245 MelbournePedestrian_rotation_aug: 0.922 MelbournePedestrian_rotation: 0.923\n",
      "FaceFour. Original: 0.9511363629999999 FaceFour_window_slice_aug: 0.964 FaceFour_jitter: 0.959\n",
      "SonyAIBORobotSurface1. Original: 0.9795341089999999 SonyAIBORobotSurface1_jitter_aug: 0.987 SonyAIBORobotSurface1_scaling: 0.986\n",
      "MiddlePhalanxOutlineAgeGroup. Original: 0.536363637 MiddlePhalanxOutlineAgeGroup_time_warp_aug: 0.623 MiddlePhalanxOutlineAgeGroup_jitter: 0.608\n",
      "MiddlePhalanxTW. Original: 0.519480519 MiddlePhalanxTW_rotation_aug: 0.532 MiddlePhalanxTW_time_warp: 0.566\n",
      "Meat. Original: 0.946666668 Meat_scaling_aug: 0.923 Meat_scaling: 0.953\n",
      "ToeSegmentation2. Original: 0.946153846 ToeSegmentation2_wdba_aug: 0.965 ToeSegmentation2_wdba: 0.965\n",
      "GesturePebbleZ2. Original: 0.899367089 GesturePebbleZ2_jitter_aug: 0.908 GesturePebbleZ2_jitter: 0.892\n",
      "GesturePebbleZ1. Original: 0.9203488369999999 GesturePebbleZ1_window_warp_aug: 0.948 GesturePebbleZ1_rotation: 0.934\n",
      "GestureMidAirD2. Original: 0.632307693 GestureMidAirD2_jitter_aug: 0.623 GestureMidAirD2_scaling: 0.657\n",
      "SonyAIBORobotSurface2. Original: 0.953830011 SonyAIBORobotSurface2_magnitude_warp_aug: 0.979 SonyAIBORobotSurface2_jitter: 0.962\n",
      "GestureMidAirD1. Original: 0.73 GestureMidAirD1_jitter_aug: 0.734 GestureMidAirD1_scaling: 0.743\n",
      "GestureMidAirD3. Original: 0.41692307700000003 GestureMidAirD3_jitter_aug: 0.428 GestureMidAirD3_jitter: 0.426\n",
      "Car. Original: 0.93333333 Car_jitter_aug: 0.933 Car_jitter: 0.937\n",
      "ToeSegmentation1. Original: 0.953947369 ToeSegmentation1_window_warp_aug: 0.961 ToeSegmentation1_window_warp: 0.962\n",
      "ShapeletSim. Original: 0.7994444439999999 ShapeletSim_scaling_aug: 0.953 ShapeletSim_magnitude_warp: 0.919\n",
      "DiatomSizeReduction. Original: 0.977124184 DiatomSizeReduction_rotation_aug: 0.965 DiatomSizeReduction_jitter: 0.983\n",
      "MoteStrain. Original: 0.926357828 MoteStrain_time_warp_aug: 0.938 MoteStrain_scaling: 0.927\n",
      "HouseTwenty. Original: 0.9487394960000001 HouseTwenty_rotation_aug: 0.975 HouseTwenty_rotation: 0.973\n",
      "InsectEPGSmallTrain. Original: 0.444176707 InsectEPGSmallTrain_rotation_aug: 0.39 InsectEPGSmallTrain_rotation: 0.508\n",
      "MedicalImages. Original: 0.769473683 MedicalImages_window_warp_aug: 0.779 MedicalImages_magnitude_warp: 0.771\n",
      "Rock. Original: 0.55 Rock_time_warp_aug: 0.728 Rock_jitter: 0.632\n",
      "Adiac. Original: 0.834526856 Adiac_scaling_aug: 0.845 Adiac_scaling: 0.83\n",
      "InsectEPGRegularTrain. Original: 0.951004016 InsectEPGRegularTrain_jitter_aug: 1.0 InsectEPGRegularTrain_jitter: 1.0\n",
      "SwedishLeaf. Original: 0.9712000000000001 SwedishLeaf_rotation_aug: 0.975 SwedishLeaf_scaling: 0.97\n",
      "Fish. Original: 0.9874285709999999 Fish_rotation_aug: 0.987 Fish_scaling: 0.993\n"
     ]
    }
   ],
   "source": [
    "import numpy as np\n",
    "\n",
    "dataset_names = all_up_to_2Mb_dataset_list\n",
    "\n",
    "all_columns = [\"jitter\", \"scaling\", \"window_slice\", \"window_warp\", \"time_warp\", \"rotation\",\n",
    "                 \"magnitude_warp\", \"spawner\", \"wdba\"]\n",
    "count_orig_vs_all_columns = [\"orig\"]\n",
    "count_orig_vs_all_columns.extend(all_columns)\n",
    "count_orig_vs_all = pd.DataFrame(np.zeros((len(dataset_names), len(all_columns)+1)), index=dataset_names, columns=count_orig_vs_all_columns)\n",
    "count_wins_orig_orig_vs_all = 0\n",
    "count_wins_all_orig_vs_all = 0\n",
    "\n",
    "aug_columns = [\"jitter_aug\", \"scaling_aug\", \"window_slice_aug\", \"window_warp_aug\",\n",
    "               \"time_warp_aug\", \"rotation_aug\", \"magnitude_warp_aug\", \"spawner_aug\", \"wdba_aug\"]\n",
    "count_orig_vs_aug_columns = [\"orig\"]\n",
    "count_orig_vs_aug_columns.extend(aug_columns)\n",
    "count_orig_vs_aug = pd.DataFrame(np.zeros((len(dataset_names), len(aug_columns)+1)), index=dataset_names, columns=count_orig_vs_aug_columns)\n",
    "count_wins_orig_orig_vs_aug = 0\n",
    "count_wins_aug_orig_vs_aug = 0\n",
    "\n",
    "count_aug_vs_all_columns = all_columns + aug_columns\n",
    "count_aug_vs_all = pd.DataFrame(np.zeros((len(dataset_names), len(count_aug_vs_all_columns))), index=dataset_names, columns=count_aug_vs_all_columns)\n",
    "count_wins_aug_aug_vs_all = 0\n",
    "count_wins_all_aug_vs_all = 0\n",
    "\n",
    "count_orig_vs_all_vs_aug_columns = [\"orig\"] + all_columns + aug_columns\n",
    "count_orig_vs_all_vs_aug = pd.DataFrame(np.zeros((len(dataset_names), len(count_orig_vs_all_vs_aug_columns))), index=dataset_names, columns=count_orig_vs_all_vs_aug_columns)\n",
    "count_wins_orig = 0\n",
    "count_wins_all = 0\n",
    "count_wins_aug = 0\n",
    "\n",
    "for dataset_name in all_up_to_2Mb_dataset_list:\n",
    "    all_results_best_idx = all_results[all_results.index.str.startswith(dataset_name)]['mean_acc'].idxmax()\n",
    "    all_results_best_acc = all_results[all_results.index.str.startswith(dataset_name)]['mean_acc'].max()\n",
    "    aug_best_idx = aug_df[aug_df.index.str.startswith(dataset_name)]['mean_acc'].idxmax()\n",
    "    aug_best_acc = aug_df[aug_df.index.str.startswith(dataset_name)]['mean_acc'].max()\n",
    "    orig_acc = original.loc[original['dataset_name']==dataset_name, 'OS-CNN'].values[0]/100\n",
    "\n",
    "    # Compute percentual accuracy\n",
    "    \n",
    "    print(f\"{dataset_name}. Original: {orig_acc}\" + \n",
    "          f\" {aug_best_idx}: {np.round(aug_best_acc, 3)}\" +\n",
    "            f\" {all_results_best_idx}: {np.round(all_results_best_acc, 3)}\")\n",
    "    if orig_acc > all_results_best_acc:\n",
    "        count_orig_vs_all.loc[dataset_name, \"orig\"] = 1\n",
    "        count_wins_orig_orig_vs_all += 1\n",
    "        if orig_acc > aug_best_acc:\n",
    "            count_orig_vs_all_vs_aug.loc[dataset_name, \"orig\"] = 1\n",
    "            count_wins_orig += 1\n",
    "    if orig_acc > aug_best_acc:\n",
    "        count_orig_vs_aug.loc[dataset_name, \"orig\"] = 1\n",
    "        count_wins_orig_orig_vs_aug += 1\n",
    "\n",
    "    if all_results_best_acc > aug_best_acc:\n",
    "        # all_results_best_idx[len(dataset_name)+1:] is to remove the name of the dataset and just leave the name of the aug\n",
    "        count_aug_vs_all.loc[dataset_name, all_results_best_idx[len(dataset_name)+1:]] = 1\n",
    "        count_wins_all_aug_vs_all += 1\n",
    "        if all_results_best_acc > orig_acc:\n",
    "            count_orig_vs_all_vs_aug.loc[dataset_name, all_results_best_idx[len(dataset_name)+1:]] = 1\n",
    "            count_wins_all += 1\n",
    "    if all_results_best_acc > orig_acc:\n",
    "        count_orig_vs_all.loc[dataset_name, all_results_best_idx[len(dataset_name)+1:]] = 1\n",
    "        count_wins_all_orig_vs_all += 1\n",
    "    \n",
    "    if aug_best_acc > orig_acc:\n",
    "        count_orig_vs_aug.loc[dataset_name, aug_best_idx[len(dataset_name)+1:]] = 1\n",
    "        count_wins_aug_orig_vs_aug += 1\n",
    "        if aug_best_acc > all_results_best_acc:\n",
    "            count_orig_vs_all_vs_aug.loc[dataset_name, aug_best_idx[len(dataset_name)+1:]] = 1\n",
    "            count_wins_aug += 1\n",
    "    if aug_best_acc > all_results_best_acc:\n",
    "        count_aug_vs_all.loc[dataset_name, aug_best_idx[len(dataset_name)+1:]] = 1\n",
    "        count_wins_aug_aug_vs_all += 1"
   ]
  },
  {
   "cell_type": "code",
   "execution_count": 19,
   "metadata": {},
   "outputs": [
    {
     "data": {
      "text/plain": [
       "'\\\\begin{tabular}{lrrrrrrrrrrrrrrrrrr}\\n\\\\toprule\\n & jit & scl & winS & winW & timW & rot & magW & spaw & wdba & jitA & sclA & winSA & winWA & timWA & rotA & magWA & spawA & wdbaA \\\\\\\\\\n\\\\midrule\\nWine & 0 & 0 & 0 & 0 & 0 & 1 & 0 & 0 & 0 & 0 & 0 & 0 & 0 & 0 & 0 & 0 & 0 & 0 \\\\\\\\\\nBeetleFly & 0 & 0 & 1 & 0 & 0 & 0 & 0 & 0 & 0 & 0 & 0 & 0 & 0 & 0 & 0 & 0 & 0 & 0 \\\\\\\\\\nArrowHead & 0 & 0 & 0 & 0 & 0 & 0 & 0 & 0 & 0 & 0 & 0 & 0 & 1 & 0 & 0 & 0 & 0 & 0 \\\\\\\\\\nOliveOil & 0 & 0 & 0 & 0 & 0 & 0 & 0 & 0 & 0 & 0 & 0 & 0 & 0 & 0 & 0 & 0 & 0 & 1 \\\\\\\\\\nBeef & 0 & 0 & 0 & 0 & 0 & 0 & 0 & 0 & 0 & 0 & 0 & 0 & 0 & 1 & 0 & 0 & 0 & 0 \\\\\\\\\\nLightning7 & 0 & 0 & 0 & 0 & 0 & 0 & 0 & 0 & 0 & 0 & 0 & 0 & 0 & 1 & 0 & 0 & 0 & 0 \\\\\\\\\\nLightning2 & 0 & 0 & 0 & 1 & 0 & 0 & 0 & 0 & 0 & 0 & 0 & 0 & 0 & 0 & 0 & 0 & 0 & 0 \\\\\\\\\\nDistalPhalanxOutlineAgeGroup & 1 & 0 & 0 & 0 & 0 & 0 & 0 & 0 & 0 & 0 & 0 & 0 & 0 & 0 & 0 & 0 & 0 & 0 \\\\\\\\\\nDistalPhalanxTW & 0 & 0 & 1 & 0 & 0 & 0 & 0 & 0 & 0 & 0 & 0 & 0 & 0 & 0 & 0 & 0 & 0 & 0 \\\\\\\\\\nHerring & 0 & 1 & 0 & 0 & 0 & 0 & 0 & 0 & 0 & 0 & 0 & 0 & 0 & 0 & 0 & 0 & 0 & 0 \\\\\\\\\\nProximalPhalanxTW & 0 & 0 & 0 & 0 & 0 & 0 & 1 & 0 & 0 & 0 & 0 & 0 & 0 & 0 & 0 & 0 & 0 & 0 \\\\\\\\\\nMiddlePhalanxOutlineCorrect & 0 & 0 & 0 & 0 & 0 & 0 & 0 & 0 & 0 & 0 & 0 & 0 & 0 & 0 & 0 & 0 & 1 & 0 \\\\\\\\\\nProximalPhalanxOutlineCorrect & 0 & 0 & 0 & 0 & 0 & 0 & 0 & 0 & 0 & 1 & 0 & 0 & 0 & 0 & 0 & 0 & 0 & 0 \\\\\\\\\\nProximalPhalanxOutlineAgeGroup & 0 & 0 & 0 & 0 & 0 & 0 & 0 & 0 & 0 & 0 & 0 & 0 & 0 & 0 & 0 & 0 & 0 & 1 \\\\\\\\\\nDistalPhalanxOutlineCorrect & 0 & 0 & 0 & 0 & 0 & 0 & 0 & 0 & 0 & 0 & 0 & 0 & 0 & 0 & 0 & 0 & 0 & 1 \\\\\\\\\\nHam & 0 & 0 & 0 & 0 & 0 & 0 & 0 & 1 & 0 & 0 & 0 & 0 & 0 & 0 & 0 & 0 & 0 & 0 \\\\\\\\\\nChinatown & 0 & 0 & 0 & 0 & 0 & 0 & 1 & 0 & 0 & 0 & 0 & 0 & 0 & 0 & 0 & 0 & 0 & 0 \\\\\\\\\\nSmoothSubspace & 0 & 0 & 0 & 0 & 0 & 0 & 0 & 0 & 0 & 1 & 0 & 0 & 0 & 0 & 0 & 0 & 0 & 0 \\\\\\\\\\nDodgerLoopGame & 0 & 0 & 0 & 0 & 0 & 0 & 0 & 0 & 0 & 1 & 0 & 0 & 0 & 0 & 0 & 0 & 0 & 0 \\\\\\\\\\nDodgerLoopWeekend & 0 & 0 & 0 & 0 & 0 & 0 & 0 & 0 & 0 & 1 & 0 & 0 & 0 & 0 & 0 & 0 & 0 & 0 \\\\\\\\\\nDodgerLoopDay & 0 & 0 & 0 & 0 & 0 & 0 & 0 & 0 & 0 & 1 & 0 & 0 & 0 & 0 & 0 & 0 & 0 & 0 \\\\\\\\\\nPickupGestureWiimoteZ & 0 & 0 & 0 & 0 & 0 & 0 & 0 & 0 & 0 & 0 & 1 & 0 & 0 & 0 & 0 & 0 & 0 & 0 \\\\\\\\\\nShakeGestureWiimoteZ & 1 & 0 & 0 & 0 & 0 & 0 & 0 & 0 & 0 & 0 & 0 & 0 & 0 & 0 & 0 & 0 & 0 & 0 \\\\\\\\\\nECG200 & 0 & 0 & 0 & 0 & 0 & 0 & 0 & 0 & 0 & 0 & 0 & 0 & 0 & 0 & 0 & 0 & 0 & 0 \\\\\\\\\\nBirdChicken & 0 & 0 & 0 & 0 & 0 & 0 & 1 & 0 & 0 & 0 & 0 & 0 & 0 & 0 & 0 & 0 & 0 & 0 \\\\\\\\\\nItalyPowerDemand & 0 & 0 & 1 & 0 & 0 & 0 & 0 & 0 & 0 & 0 & 0 & 0 & 0 & 0 & 0 & 0 & 0 & 0 \\\\\\\\\\nMelbournePedestrian & 0 & 0 & 0 & 0 & 0 & 1 & 0 & 0 & 0 & 0 & 0 & 0 & 0 & 0 & 0 & 0 & 0 & 0 \\\\\\\\\\nFaceFour & 0 & 0 & 0 & 0 & 0 & 0 & 0 & 0 & 0 & 0 & 0 & 1 & 0 & 0 & 0 & 0 & 0 & 0 \\\\\\\\\\nSonyAIBORobotSurface1 & 0 & 0 & 0 & 0 & 0 & 0 & 0 & 0 & 0 & 1 & 0 & 0 & 0 & 0 & 0 & 0 & 0 & 0 \\\\\\\\\\nMiddlePhalanxOutlineAgeGroup & 0 & 0 & 0 & 0 & 0 & 0 & 0 & 0 & 0 & 0 & 0 & 0 & 0 & 1 & 0 & 0 & 0 & 0 \\\\\\\\\\nMiddlePhalanxTW & 0 & 0 & 0 & 0 & 1 & 0 & 0 & 0 & 0 & 0 & 0 & 0 & 0 & 0 & 0 & 0 & 0 & 0 \\\\\\\\\\nMeat & 0 & 1 & 0 & 0 & 0 & 0 & 0 & 0 & 0 & 0 & 0 & 0 & 0 & 0 & 0 & 0 & 0 & 0 \\\\\\\\\\nToeSegmentation2 & 0 & 0 & 0 & 0 & 0 & 0 & 0 & 0 & 0 & 0 & 0 & 0 & 0 & 0 & 0 & 0 & 0 & 0 \\\\\\\\\\nGesturePebbleZ2 & 0 & 0 & 0 & 0 & 0 & 0 & 0 & 0 & 0 & 1 & 0 & 0 & 0 & 0 & 0 & 0 & 0 & 0 \\\\\\\\\\nGesturePebbleZ1 & 0 & 0 & 0 & 0 & 0 & 0 & 0 & 0 & 0 & 0 & 0 & 0 & 1 & 0 & 0 & 0 & 0 & 0 \\\\\\\\\\nGestureMidAirD2 & 0 & 1 & 0 & 0 & 0 & 0 & 0 & 0 & 0 & 0 & 0 & 0 & 0 & 0 & 0 & 0 & 0 & 0 \\\\\\\\\\nSonyAIBORobotSurface2 & 0 & 0 & 0 & 0 & 0 & 0 & 0 & 0 & 0 & 0 & 0 & 0 & 0 & 0 & 0 & 1 & 0 & 0 \\\\\\\\\\nGestureMidAirD1 & 0 & 1 & 0 & 0 & 0 & 0 & 0 & 0 & 0 & 0 & 0 & 0 & 0 & 0 & 0 & 0 & 0 & 0 \\\\\\\\\\nGestureMidAirD3 & 0 & 0 & 0 & 0 & 0 & 0 & 0 & 0 & 0 & 1 & 0 & 0 & 0 & 0 & 0 & 0 & 0 & 0 \\\\\\\\\\nCar & 1 & 0 & 0 & 0 & 0 & 0 & 0 & 0 & 0 & 0 & 0 & 0 & 0 & 0 & 0 & 0 & 0 & 0 \\\\\\\\\\nToeSegmentation1 & 0 & 0 & 0 & 1 & 0 & 0 & 0 & 0 & 0 & 0 & 0 & 0 & 0 & 0 & 0 & 0 & 0 & 0 \\\\\\\\\\nShapeletSim & 0 & 0 & 0 & 0 & 0 & 0 & 0 & 0 & 0 & 0 & 1 & 0 & 0 & 0 & 0 & 0 & 0 & 0 \\\\\\\\\\nDiatomSizeReduction & 1 & 0 & 0 & 0 & 0 & 0 & 0 & 0 & 0 & 0 & 0 & 0 & 0 & 0 & 0 & 0 & 0 & 0 \\\\\\\\\\nMoteStrain & 0 & 0 & 0 & 0 & 0 & 0 & 0 & 0 & 0 & 0 & 0 & 0 & 0 & 1 & 0 & 0 & 0 & 0 \\\\\\\\\\nHouseTwenty & 0 & 0 & 0 & 0 & 0 & 0 & 0 & 0 & 0 & 0 & 0 & 0 & 0 & 0 & 1 & 0 & 0 & 0 \\\\\\\\\\nInsectEPGSmallTrain & 0 & 0 & 0 & 0 & 0 & 1 & 0 & 0 & 0 & 0 & 0 & 0 & 0 & 0 & 0 & 0 & 0 & 0 \\\\\\\\\\nMedicalImages & 0 & 0 & 0 & 0 & 0 & 0 & 0 & 0 & 0 & 0 & 0 & 0 & 1 & 0 & 0 & 0 & 0 & 0 \\\\\\\\\\nRock & 0 & 0 & 0 & 0 & 0 & 0 & 0 & 0 & 0 & 0 & 0 & 0 & 0 & 1 & 0 & 0 & 0 & 0 \\\\\\\\\\nAdiac & 0 & 0 & 0 & 0 & 0 & 0 & 0 & 0 & 0 & 0 & 1 & 0 & 0 & 0 & 0 & 0 & 0 & 0 \\\\\\\\\\nInsectEPGRegularTrain & 0 & 0 & 0 & 0 & 0 & 0 & 0 & 0 & 0 & 0 & 0 & 0 & 0 & 0 & 0 & 0 & 0 & 0 \\\\\\\\\\nSwedishLeaf & 0 & 0 & 0 & 0 & 0 & 0 & 0 & 0 & 0 & 0 & 0 & 0 & 0 & 0 & 1 & 0 & 0 & 0 \\\\\\\\\\nFish & 0 & 1 & 0 & 0 & 0 & 0 & 0 & 0 & 0 & 0 & 0 & 0 & 0 & 0 & 0 & 0 & 0 & 0 \\\\\\\\\\nSum & 4 & 5 & 3 & 2 & 1 & 3 & 3 & 1 & 0 & 8 & 3 & 1 & 3 & 5 & 2 & 1 & 1 & 3 \\\\\\\\\\n\\\\bottomrule\\n\\\\end{tabular}\\n'"
      ]
     },
     "execution_count": 19,
     "metadata": {},
     "output_type": "execute_result"
    }
   ],
   "source": [
    "count_aug_vs_all_columns = [\"jit\", \"scl\", \"winS\", \"winW\", \"timW\", \"rot\", \"magW\", \"spaw\", \"wdba\", \"jitA\", \"sclA\", \"winSA\", \"winWA\", \"timWA\", \"rotA\", \"magWA\", \"spawA\", \"wdbaA\"]\n",
    "count_aug_vs_all.columns = count_aug_vs_all_columns\n",
    "count_aug_vs_all.loc[\"Sum\", :] = count_aug_vs_all.sum().values\n",
    "count_aug_vs_all = count_aug_vs_all.astype(int)\n",
    "count_aug_vs_all.to_latex()"
   ]
  },
  {
   "cell_type": "code",
   "execution_count": 20,
   "metadata": {},
   "outputs": [
    {
     "data": {
      "text/plain": [
       "'\\\\begin{tabular}{lrrrrrrrrrrrrrrrrrrr}\\n\\\\toprule\\n & orig & jit & scl & winS & winW & timW & rot & magW & spaw & wdba & jitA & sclA & winSA & winWA & timWA & rotA & magWA & spawA & wdbaA \\\\\\\\\\n\\\\midrule\\nWine & 0 & 0 & 0 & 0 & 0 & 0 & 1 & 0 & 0 & 0 & 0 & 0 & 0 & 0 & 0 & 0 & 0 & 0 & 0 \\\\\\\\\\nBeetleFly & 0 & 0 & 0 & 1 & 0 & 0 & 0 & 0 & 0 & 0 & 0 & 0 & 0 & 0 & 0 & 0 & 0 & 0 & 0 \\\\\\\\\\nArrowHead & 0 & 0 & 0 & 0 & 0 & 0 & 0 & 0 & 0 & 0 & 0 & 0 & 0 & 1 & 0 & 0 & 0 & 0 & 0 \\\\\\\\\\nOliveOil & 0 & 0 & 0 & 0 & 0 & 0 & 0 & 0 & 0 & 0 & 0 & 0 & 0 & 0 & 0 & 0 & 0 & 0 & 1 \\\\\\\\\\nBeef & 0 & 0 & 0 & 0 & 0 & 0 & 0 & 0 & 0 & 0 & 0 & 0 & 0 & 0 & 1 & 0 & 0 & 0 & 0 \\\\\\\\\\nLightning7 & 0 & 0 & 0 & 0 & 0 & 0 & 0 & 0 & 0 & 0 & 0 & 0 & 0 & 0 & 1 & 0 & 0 & 0 & 0 \\\\\\\\\\nLightning2 & 0 & 0 & 0 & 0 & 1 & 0 & 0 & 0 & 0 & 0 & 0 & 0 & 0 & 0 & 0 & 0 & 0 & 0 & 0 \\\\\\\\\\nDistalPhalanxOutlineAgeGroup & 0 & 1 & 0 & 0 & 0 & 0 & 0 & 0 & 0 & 0 & 0 & 0 & 0 & 0 & 0 & 0 & 0 & 0 & 0 \\\\\\\\\\nDistalPhalanxTW & 0 & 0 & 0 & 1 & 0 & 0 & 0 & 0 & 0 & 0 & 0 & 0 & 0 & 0 & 0 & 0 & 0 & 0 & 0 \\\\\\\\\\nHerring & 0 & 0 & 1 & 0 & 0 & 0 & 0 & 0 & 0 & 0 & 0 & 0 & 0 & 0 & 0 & 0 & 0 & 0 & 0 \\\\\\\\\\nProximalPhalanxTW & 0 & 0 & 0 & 0 & 0 & 0 & 0 & 1 & 0 & 0 & 0 & 0 & 0 & 0 & 0 & 0 & 0 & 0 & 0 \\\\\\\\\\nMiddlePhalanxOutlineCorrect & 0 & 0 & 0 & 0 & 0 & 0 & 0 & 0 & 0 & 0 & 0 & 0 & 0 & 0 & 0 & 0 & 0 & 1 & 0 \\\\\\\\\\nProximalPhalanxOutlineCorrect & 0 & 0 & 0 & 0 & 0 & 0 & 0 & 0 & 0 & 0 & 1 & 0 & 0 & 0 & 0 & 0 & 0 & 0 & 0 \\\\\\\\\\nProximalPhalanxOutlineAgeGroup & 0 & 0 & 0 & 0 & 0 & 0 & 0 & 0 & 0 & 0 & 0 & 0 & 0 & 0 & 0 & 0 & 0 & 0 & 1 \\\\\\\\\\nDistalPhalanxOutlineCorrect & 0 & 0 & 0 & 0 & 0 & 0 & 0 & 0 & 0 & 0 & 0 & 0 & 0 & 0 & 0 & 0 & 0 & 0 & 1 \\\\\\\\\\nHam & 0 & 0 & 0 & 0 & 0 & 0 & 0 & 0 & 1 & 0 & 0 & 0 & 0 & 0 & 0 & 0 & 0 & 0 & 0 \\\\\\\\\\nChinatown & 0 & 0 & 0 & 0 & 0 & 0 & 0 & 1 & 0 & 0 & 0 & 0 & 0 & 0 & 0 & 0 & 0 & 0 & 0 \\\\\\\\\\nSmoothSubspace & 0 & 0 & 0 & 0 & 0 & 0 & 0 & 0 & 0 & 0 & 1 & 0 & 0 & 0 & 0 & 0 & 0 & 0 & 0 \\\\\\\\\\nDodgerLoopGame & 0 & 0 & 0 & 0 & 0 & 0 & 0 & 0 & 0 & 0 & 1 & 0 & 0 & 0 & 0 & 0 & 0 & 0 & 0 \\\\\\\\\\nDodgerLoopWeekend & 0 & 0 & 0 & 0 & 0 & 0 & 0 & 0 & 0 & 0 & 1 & 0 & 0 & 0 & 0 & 0 & 0 & 0 & 0 \\\\\\\\\\nDodgerLoopDay & 0 & 0 & 0 & 0 & 0 & 0 & 0 & 0 & 0 & 0 & 1 & 0 & 0 & 0 & 0 & 0 & 0 & 0 & 0 \\\\\\\\\\nPickupGestureWiimoteZ & 1 & 0 & 0 & 0 & 0 & 0 & 0 & 0 & 0 & 0 & 0 & 0 & 0 & 0 & 0 & 0 & 0 & 0 & 0 \\\\\\\\\\nShakeGestureWiimoteZ & 0 & 1 & 0 & 0 & 0 & 0 & 0 & 0 & 0 & 0 & 0 & 0 & 0 & 0 & 0 & 0 & 0 & 0 & 0 \\\\\\\\\\nECG200 & 0 & 0 & 0 & 0 & 0 & 0 & 0 & 0 & 0 & 0 & 0 & 0 & 0 & 0 & 0 & 0 & 0 & 0 & 0 \\\\\\\\\\nBirdChicken & 0 & 0 & 0 & 0 & 0 & 0 & 0 & 1 & 0 & 0 & 0 & 0 & 0 & 0 & 0 & 0 & 0 & 0 & 0 \\\\\\\\\\nItalyPowerDemand & 0 & 0 & 0 & 1 & 0 & 0 & 0 & 0 & 0 & 0 & 0 & 0 & 0 & 0 & 0 & 0 & 0 & 0 & 0 \\\\\\\\\\nMelbournePedestrian & 0 & 0 & 0 & 0 & 0 & 0 & 1 & 0 & 0 & 0 & 0 & 0 & 0 & 0 & 0 & 0 & 0 & 0 & 0 \\\\\\\\\\nFaceFour & 0 & 0 & 0 & 0 & 0 & 0 & 0 & 0 & 0 & 0 & 0 & 0 & 1 & 0 & 0 & 0 & 0 & 0 & 0 \\\\\\\\\\nSonyAIBORobotSurface1 & 0 & 0 & 0 & 0 & 0 & 0 & 0 & 0 & 0 & 0 & 1 & 0 & 0 & 0 & 0 & 0 & 0 & 0 & 0 \\\\\\\\\\nMiddlePhalanxOutlineAgeGroup & 0 & 0 & 0 & 0 & 0 & 0 & 0 & 0 & 0 & 0 & 0 & 0 & 0 & 0 & 1 & 0 & 0 & 0 & 0 \\\\\\\\\\nMiddlePhalanxTW & 0 & 0 & 0 & 0 & 0 & 1 & 0 & 0 & 0 & 0 & 0 & 0 & 0 & 0 & 0 & 0 & 0 & 0 & 0 \\\\\\\\\\nMeat & 0 & 0 & 1 & 0 & 0 & 0 & 0 & 0 & 0 & 0 & 0 & 0 & 0 & 0 & 0 & 0 & 0 & 0 & 0 \\\\\\\\\\nToeSegmentation2 & 0 & 0 & 0 & 0 & 0 & 0 & 0 & 0 & 0 & 0 & 0 & 0 & 0 & 0 & 0 & 0 & 0 & 0 & 0 \\\\\\\\\\nGesturePebbleZ2 & 0 & 0 & 0 & 0 & 0 & 0 & 0 & 0 & 0 & 0 & 1 & 0 & 0 & 0 & 0 & 0 & 0 & 0 & 0 \\\\\\\\\\nGesturePebbleZ1 & 0 & 0 & 0 & 0 & 0 & 0 & 0 & 0 & 0 & 0 & 0 & 0 & 0 & 1 & 0 & 0 & 0 & 0 & 0 \\\\\\\\\\nGestureMidAirD2 & 0 & 0 & 1 & 0 & 0 & 0 & 0 & 0 & 0 & 0 & 0 & 0 & 0 & 0 & 0 & 0 & 0 & 0 & 0 \\\\\\\\\\nSonyAIBORobotSurface2 & 0 & 0 & 0 & 0 & 0 & 0 & 0 & 0 & 0 & 0 & 0 & 0 & 0 & 0 & 0 & 0 & 1 & 0 & 0 \\\\\\\\\\nGestureMidAirD1 & 0 & 0 & 1 & 0 & 0 & 0 & 0 & 0 & 0 & 0 & 0 & 0 & 0 & 0 & 0 & 0 & 0 & 0 & 0 \\\\\\\\\\nGestureMidAirD3 & 0 & 0 & 0 & 0 & 0 & 0 & 0 & 0 & 0 & 0 & 1 & 0 & 0 & 0 & 0 & 0 & 0 & 0 & 0 \\\\\\\\\\nCar & 0 & 1 & 0 & 0 & 0 & 0 & 0 & 0 & 0 & 0 & 0 & 0 & 0 & 0 & 0 & 0 & 0 & 0 & 0 \\\\\\\\\\nToeSegmentation1 & 0 & 0 & 0 & 0 & 1 & 0 & 0 & 0 & 0 & 0 & 0 & 0 & 0 & 0 & 0 & 0 & 0 & 0 & 0 \\\\\\\\\\nShapeletSim & 0 & 0 & 0 & 0 & 0 & 0 & 0 & 0 & 0 & 0 & 0 & 1 & 0 & 0 & 0 & 0 & 0 & 0 & 0 \\\\\\\\\\nDiatomSizeReduction & 0 & 1 & 0 & 0 & 0 & 0 & 0 & 0 & 0 & 0 & 0 & 0 & 0 & 0 & 0 & 0 & 0 & 0 & 0 \\\\\\\\\\nMoteStrain & 0 & 0 & 0 & 0 & 0 & 0 & 0 & 0 & 0 & 0 & 0 & 0 & 0 & 0 & 1 & 0 & 0 & 0 & 0 \\\\\\\\\\nHouseTwenty & 0 & 0 & 0 & 0 & 0 & 0 & 0 & 0 & 0 & 0 & 0 & 0 & 0 & 0 & 0 & 1 & 0 & 0 & 0 \\\\\\\\\\nInsectEPGSmallTrain & 0 & 0 & 0 & 0 & 0 & 0 & 1 & 0 & 0 & 0 & 0 & 0 & 0 & 0 & 0 & 0 & 0 & 0 & 0 \\\\\\\\\\nMedicalImages & 0 & 0 & 0 & 0 & 0 & 0 & 0 & 0 & 0 & 0 & 0 & 0 & 0 & 1 & 0 & 0 & 0 & 0 & 0 \\\\\\\\\\nRock & 0 & 0 & 0 & 0 & 0 & 0 & 0 & 0 & 0 & 0 & 0 & 0 & 0 & 0 & 1 & 0 & 0 & 0 & 0 \\\\\\\\\\nAdiac & 0 & 0 & 0 & 0 & 0 & 0 & 0 & 0 & 0 & 0 & 0 & 1 & 0 & 0 & 0 & 0 & 0 & 0 & 0 \\\\\\\\\\nInsectEPGRegularTrain & 0 & 0 & 0 & 0 & 0 & 0 & 0 & 0 & 0 & 0 & 0 & 0 & 0 & 0 & 0 & 0 & 0 & 0 & 0 \\\\\\\\\\nSwedishLeaf & 0 & 0 & 0 & 0 & 0 & 0 & 0 & 0 & 0 & 0 & 0 & 0 & 0 & 0 & 0 & 1 & 0 & 0 & 0 \\\\\\\\\\nFish & 0 & 0 & 1 & 0 & 0 & 0 & 0 & 0 & 0 & 0 & 0 & 0 & 0 & 0 & 0 & 0 & 0 & 0 & 0 \\\\\\\\\\nSum & 1 & 4 & 5 & 3 & 2 & 1 & 3 & 3 & 1 & 0 & 8 & 2 & 1 & 3 & 5 & 2 & 1 & 1 & 3 \\\\\\\\\\n\\\\bottomrule\\n\\\\end{tabular}\\n'"
      ]
     },
     "execution_count": 20,
     "metadata": {},
     "output_type": "execute_result"
    }
   ],
   "source": [
    "# Table 5\n",
    "count_orig_vs_all_vs_aug_columns = [\"orig\", \"jit\", \"scl\", \"winS\", \"winW\", \"timW\", \"rot\", \"magW\", \"spaw\", \"wdba\", \"jitA\", \"sclA\", \"winSA\", \"winWA\", \"timWA\", \"rotA\", \"magWA\", \"spawA\", \"wdbaA\"]\n",
    "count_orig_vs_all_vs_aug.columns = count_orig_vs_all_vs_aug_columns\n",
    "count_orig_vs_all_vs_aug.loc[\"Sum\", :] = count_orig_vs_all_vs_aug.sum().values\n",
    "count_orig_vs_all_vs_aug = count_orig_vs_all_vs_aug.astype(int)\n",
    "count_orig_vs_all_vs_aug.to_latex()"
   ]
  },
  {
   "cell_type": "code",
   "execution_count": 21,
   "metadata": {},
   "outputs": [
    {
     "name": "stdout",
     "output_type": "stream",
     "text": [
      "orig     1\n",
      "jit      4\n",
      "scl      5\n",
      "winS     3\n",
      "winW     2\n",
      "timW     1\n",
      "rot      3\n",
      "magW     3\n",
      "spaw     1\n",
      "wdba     0\n",
      "jitA     8\n",
      "sclA     2\n",
      "winSA    1\n",
      "winWA    3\n",
      "timWA    5\n",
      "rotA     2\n",
      "magWA    1\n",
      "spawA    1\n",
      "wdbaA    3\n",
      "Name: Sum, dtype: int64\n",
      "orig              0.822632\n",
      "jitter            0.793870\n",
      "scaling           0.818861\n",
      "window_slice      0.729584\n",
      "window_warp       0.781544\n",
      "time_warp         0.661406\n",
      "rotation          0.775107\n",
      "magnitude_warp    0.799964\n",
      "spawner           0.703466\n",
      "wdba              0.738364\n",
      "dtype: float64\n",
      "jitter_aug            0.807831\n",
      "scaling_aug           0.820861\n",
      "window_slice_aug      0.785410\n",
      "window_warp_aug       0.805695\n",
      "time_warp_aug         0.731794\n",
      "rotation_aug          0.782958\n",
      "magnitude_warp_aug    0.807057\n",
      "spawner_aug           0.758801\n",
      "wdba_aug              0.770894\n",
      "dtype: float64\n",
      "perc_jitter            -3.792577\n",
      "perc_scaling           -0.580231\n",
      "perc_window_slice     -12.115192\n",
      "perc_window_warp       -5.279596\n",
      "perc_time_warp        -20.216923\n",
      "perc_rotation          -5.664077\n",
      "perc_magnitude_warp    -3.034577\n",
      "perc_spawner          -14.895058\n",
      "perc_wdba             -11.707385\n",
      "dtype: float64\n",
      "perc_jitter_aug            -2.166000\n",
      "perc_scaling_aug           -0.652865\n",
      "perc_window_slice_aug      -5.268404\n",
      "perc_window_warp_aug       -2.366269\n",
      "perc_time_warp_aug        -10.832115\n",
      "perc_rotation_aug          -5.021288\n",
      "perc_magnitude_warp_aug    -2.278058\n",
      "perc_spawner_aug           -8.221712\n",
      "perc_wdba_aug              -6.888519\n",
      "dtype: float64\n"
     ]
    }
   ],
   "source": [
    "# Table 2\n",
    "\n",
    "wins = count_orig_vs_all_vs_aug.loc[\"Sum\", :]\n",
    "orig_all_acc = orig_vs_all_percentage.mean().iloc[:10]\n",
    "aug_acc = orig_vs_aug_percentage.mean().iloc[1:10]\n",
    "orig_all_aug_acc = pd.concat([orig_all_acc,aug_acc])\n",
    "orig_all_perc = orig_vs_all_percentage.mean().iloc[10:]\n",
    "aug_perc = orig_vs_aug_percentage.mean().iloc[10:]\n",
    "orig_all_aug_perc = pd.concat([pd.Series(0), orig_all_perc, aug_perc])\n",
    "\n",
    "print(wins)\n",
    "print(orig_all_acc)\n",
    "print(aug_acc)\n",
    "print(orig_all_perc)\n",
    "print(aug_perc)\n",
    "\n",
    "wins_acc_perc_df = pd.DataFrame()\n",
    "wins_acc_perc_df[\"Wins\"] = wins\n",
    "wins_acc_perc_df[\"Mean accuracy\"] = orig_all_aug_acc.values\n",
    "wins_acc_perc_df[\"Accuracy percentual variation\"] = orig_all_aug_perc.values"
   ]
  },
  {
   "cell_type": "code",
   "execution_count": 32,
   "metadata": {},
   "outputs": [
    {
     "data": {
      "text/plain": [
       "'\\\\begin{tabular}{lrrr}\\n\\\\toprule\\n & Wins & Mean accuracy & Accuracy percentual variation \\\\\\\\\\n\\\\midrule\\norig & 1 & 0.822632 & 0.000000 \\\\\\\\\\njit & 4 & 0.793870 & -3.792577 \\\\\\\\\\nscl & 5 & 0.818861 & -0.580231 \\\\\\\\\\nwinS & 3 & 0.729584 & -12.115192 \\\\\\\\\\nwinW & 2 & 0.781544 & -5.279596 \\\\\\\\\\ntimW & 1 & 0.661406 & -20.216923 \\\\\\\\\\nrot & 3 & 0.775107 & -5.664077 \\\\\\\\\\nmagW & 3 & 0.799964 & -3.034577 \\\\\\\\\\nspaw & 1 & 0.703466 & -14.895058 \\\\\\\\\\nwdba & 0 & 0.738364 & -11.707385 \\\\\\\\\\njitA & 8 & 0.807831 & -2.166000 \\\\\\\\\\nsclA & 2 & 0.820861 & -0.652865 \\\\\\\\\\nwinSA & 1 & 0.785410 & -5.268404 \\\\\\\\\\nwinWA & 3 & 0.805695 & -2.366269 \\\\\\\\\\ntimWA & 5 & 0.731794 & -10.832115 \\\\\\\\\\nrotA & 2 & 0.782958 & -5.021288 \\\\\\\\\\nmagWA & 1 & 0.807057 & -2.278058 \\\\\\\\\\nspawA & 1 & 0.758801 & -8.221712 \\\\\\\\\\nwdbaA & 3 & 0.770894 & -6.888519 \\\\\\\\\\n\\\\bottomrule\\n\\\\end{tabular}\\n'"
      ]
     },
     "execution_count": 32,
     "metadata": {},
     "output_type": "execute_result"
    }
   ],
   "source": [
    "wins_acc_perc_df.to_latex()"
   ]
  },
  {
   "cell_type": "code",
   "execution_count": 22,
   "metadata": {},
   "outputs": [
    {
     "name": "stdout",
     "output_type": "stream",
     "text": [
      "0.8550440576405399\n"
     ]
    },
    {
     "data": {
      "text/plain": [
       "3.9400289423529364"
      ]
     },
     "execution_count": 22,
     "metadata": {},
     "output_type": "execute_result"
    }
   ],
   "source": [
    "orig_vs_all_vs_aug_acc = orig_vs_all_percentage.copy()\n",
    "orig_vs_all_vs_aug_acc.iloc[:, 10:] = orig_vs_aug_percentage.iloc[:, 1:10]\n",
    "orig_vs_all_vs_aug_acc[\"best\"] = orig_vs_all_vs_aug_acc.max(axis=1)\n",
    "print(orig_vs_all_vs_aug_acc.mean()[\"best\"])\n",
    "compute_percent_improvement(orig_vs_all_vs_aug_acc.mean()[\"orig\"], orig_vs_all_vs_aug_acc.mean()[\"best\"])"
   ]
  },
  {
   "cell_type": "code",
   "execution_count": 28,
   "metadata": {},
   "outputs": [
    {
     "data": {
      "text/plain": [
       "orig                  0.822632\n",
       "jitter                0.793870\n",
       "scaling               0.818861\n",
       "window_slice          0.729584\n",
       "window_warp           0.781544\n",
       "time_warp             0.661406\n",
       "rotation              0.775107\n",
       "magnitude_warp        0.799964\n",
       "spawner               0.703466\n",
       "wdba                  0.738364\n",
       "jitter_aug            0.807831\n",
       "scaling_aug           0.820861\n",
       "window_slice_aug      0.785410\n",
       "window_warp_aug       0.805695\n",
       "time_warp_aug         0.731794\n",
       "rotation_aug          0.782958\n",
       "magnitude_warp_aug    0.807057\n",
       "spawner_aug           0.758801\n",
       "wdba_aug              0.770894\n",
       "dtype: float64"
      ]
     },
     "execution_count": 28,
     "metadata": {},
     "output_type": "execute_result"
    }
   ],
   "source": [
    "orig_all_aug_acc"
   ]
  },
  {
   "cell_type": "code",
   "execution_count": 26,
   "metadata": {},
   "outputs": [
    {
     "name": "stdout",
     "output_type": "stream",
     "text": [
      "Number wins orig in orig_vs_all: 9\n",
      "Number wins all in orig_vs_all: 43\n",
      "------------------\n",
      "Number wins orig in orig_vs_aug: 6\n",
      "Number wins aug in orig_vs_aug: 46\n",
      "------------------\n",
      "Number wins all in aug_vs_all: 22\n",
      "Number wins aug in aug_vs_all: 27\n",
      "------------------\n",
      "Number wins orig in orig_vs_all_vs_aug: 1\n",
      "Number wins all in orig_vs_all_vs_aug: 22\n",
      "Number wins aug in orig_vs_all_vs_aug: 26\n",
      "------------------\n"
     ]
    }
   ],
   "source": [
    "print(f\"Number wins orig in orig_vs_all: {count_wins_orig_orig_vs_all}\")\n",
    "print(f\"Number wins all in orig_vs_all: {count_wins_all_orig_vs_all}\")\n",
    "print(\"------------------\")\n",
    "print(f\"Number wins orig in orig_vs_aug: {count_wins_orig_orig_vs_aug}\")\n",
    "print(f\"Number wins aug in orig_vs_aug: {count_wins_aug_orig_vs_aug}\")\n",
    "print(\"------------------\")\n",
    "print(f\"Number wins all in aug_vs_all: {count_wins_all_aug_vs_all}\")\n",
    "print(f\"Number wins aug in aug_vs_all: {count_wins_aug_aug_vs_all}\")\n",
    "print(\"------------------\")\n",
    "print(f\"Number wins orig in orig_vs_all_vs_aug: {count_wins_orig}\")\n",
    "print(f\"Number wins all in orig_vs_all_vs_aug: {count_wins_all}\")\n",
    "print(f\"Number wins aug in orig_vs_all_vs_aug: {count_wins_aug}\")\n",
    "print(\"------------------\")"
   ]
  },
  {
   "cell_type": "code",
   "execution_count": 27,
   "metadata": {},
   "outputs": [],
   "source": [
    "augmentations = [\"jitter\", \"scaling\", \"window_slice\", \"window_warp\", \"time_warp\", \"rotation\",\n",
    "                 \"magnitude_warp\", \"spawner\", \"wdba\"]\n",
    "orig_columns = [\"orig\"]\n",
    "orig_columns.extend(augmentations)"
   ]
  }
 ],
 "metadata": {
  "kernelspec": {
   "display_name": "OS-CNN_env",
   "language": "python",
   "name": "python3"
  },
  "language_info": {
   "codemirror_mode": {
    "name": "ipython",
    "version": 3
   },
   "file_extension": ".py",
   "mimetype": "text/x-python",
   "name": "python",
   "nbconvert_exporter": "python",
   "pygments_lexer": "ipython3",
   "version": "3.10.12"
  }
 },
 "nbformat": 4,
 "nbformat_minor": 2
}
